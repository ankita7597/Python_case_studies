{
 "cells": [
  {
   "cell_type": "code",
   "execution_count": 18,
   "id": "9397cfe0-a030-4b0f-820f-c07910b4d1c7",
   "metadata": {},
   "outputs": [
    {
     "name": "stdin",
     "output_type": "stream",
     "text": [
      "Enter password ank123\n"
     ]
    },
    {
     "name": "stdout",
     "output_type": "stream",
     "text": [
      "CORRECT PASSWORD, login successful\n",
      "Select from 1,2\n",
      "1. Saving account\n",
      "2. Current account\n"
     ]
    },
    {
     "name": "stdin",
     "output_type": "stream",
     "text": [
      "Enter choice 2\n"
     ]
    },
    {
     "name": "stdout",
     "output_type": "stream",
     "text": [
      "current account is selected\n",
      " 1. check balance \n",
      " 2. cash withdrawal\n"
     ]
    },
    {
     "name": "stdin",
     "output_type": "stream",
     "text": [
      "Select method  2\n"
     ]
    },
    {
     "name": "stdout",
     "output_type": "stream",
     "text": [
      "Heading for cashwithdrawal >>>>\n"
     ]
    },
    {
     "name": "stdin",
     "output_type": "stream",
     "text": [
      "Enter amount for withdrawal:  800\n"
     ]
    },
    {
     "name": "stdout",
     "output_type": "stream",
     "text": [
      "800 : cashwithdrawal in process, remaning balance is : 9200\n"
     ]
    }
   ],
   "source": [
    "## set_password = \"ank123\"\n",
    "balance = 10000\n",
    "attempts = 3\n",
    "\n",
    "for i in range(1,4): # login password\n",
    "    user_input1 = input(\"Enter password\")\n",
    "    if user_input1 == set_password:\n",
    "        print(\"CORRECT PASSWORD, login successful\")\n",
    "        \n",
    "        print (\"Select from 1,2\")\n",
    "        print(\"1. Saving account\")\n",
    "        print(\"2. Current account\")\n",
    "        \n",
    "        user_input2 = input(\"Enter choice\") # taking user input of type of account\n",
    "        \n",
    "        if user_input2 == \"1\":\n",
    "            print(\"saving account is selected, \")\n",
    "            print(\" 1. check balance \\n 2. cash withdrawal\")\n",
    "        elif user_input2 == \"2\":\n",
    "            print(\"current account is selected\")\n",
    "            print(\" 1. check balance \\n 2. cash withdrawal\")\n",
    "        else:\n",
    "            print(\"Invalid choice\")\n",
    "\n",
    "        user_input3 = input(\"Select method \") # taking user input for transection details \n",
    "\n",
    "        if user_input3 == \"1\":  # balance check\n",
    "            print(f\"your balance is {balance}\")\n",
    "        elif user_input3 == \"2\":\n",
    "            print(\"Heading for cashwithdrawal >>>>\")\n",
    "            \n",
    "            for j in range (1,6):\n",
    "                transection = int(input(\"Enter amount for withdrawal: \"))\n",
    "                if transection <= balance:\n",
    "                    remaning_balance = balance - transection\n",
    "                    print(f\"{transection} : cashwithdrawal in process, remaning balance is :\", remaning_balance) \n",
    "                    break\n",
    "                else:\n",
    "                    transection_left = max_attempts - j\n",
    "                    print(f\"Insufficient balance, TRANSECTION ATTEMPTS LEFT: {transection_left}\")\n",
    "    break\n",
    "else:\n",
    "    remaning_attempts = attempts-i\n",
    "    print(f\"your password is incorrect, {remaning_attempts} attempts left\")\n",
    "                "
   ]
  },
  {
   "cell_type": "code",
   "execution_count": null,
   "id": "60e56c11-7fc9-4a4a-a6a5-7727612efdfe",
   "metadata": {},
   "outputs": [],
   "source": []
  }
 ],
 "metadata": {
  "kernelspec": {
   "display_name": "Python [conda env:base] *",
   "language": "python",
   "name": "conda-base-py"
  },
  "language_info": {
   "codemirror_mode": {
    "name": "ipython",
    "version": 3
   },
   "file_extension": ".py",
   "mimetype": "text/x-python",
   "name": "python",
   "nbconvert_exporter": "python",
   "pygments_lexer": "ipython3",
   "version": "3.12.7"
  }
 },
 "nbformat": 4,
 "nbformat_minor": 5
}
